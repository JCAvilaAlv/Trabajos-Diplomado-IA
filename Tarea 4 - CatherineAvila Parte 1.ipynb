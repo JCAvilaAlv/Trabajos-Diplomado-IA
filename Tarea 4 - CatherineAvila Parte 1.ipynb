{
 "cells": [
  {
   "cell_type": "markdown",
   "id": "febce8be-e34f-4798-bddf-c9e7f8976657",
   "metadata": {},
   "source": [
    "# Tarea N° 4 - Catherine Avila A #"
   ]
  },
  {
   "cell_type": "markdown",
   "id": "873c2e04-c441-4537-b6d9-3cde12bb42b7",
   "metadata": {},
   "source": [
    "1. Consiga el conjunto de datos iris.csv. En el repositorio de Aprendizaje Profundo encuentra alguna versión."
   ]
  },
  {
   "cell_type": "code",
   "execution_count": 1,
   "id": "7b858d20-cc15-4376-87b3-57bb28e1ef54",
   "metadata": {},
   "outputs": [],
   "source": [
    "import pandas as pd"
   ]
  },
  {
   "cell_type": "markdown",
   "id": "50f88be4-3c0d-47a9-89c8-172fce0efb05",
   "metadata": {},
   "source": [
    "1. Consiga el conjunto de datos iris.csv. En el repositorio de Aprendizaje Profundo encuentra alguna versión."
   ]
  },
  {
   "cell_type": "code",
   "execution_count": 4,
   "id": "ce0ac5c0-bbce-4a69-ab98-c51591664bc8",
   "metadata": {},
   "outputs": [
    {
     "data": {
      "text/plain": [
       "['Sepal_Length', 'Sepal_Width', 'Petal_Length', 'Petal_Width', 'Species']"
      ]
     },
     "execution_count": 4,
     "metadata": {},
     "output_type": "execute_result"
    }
   ],
   "source": [
    "csv_url = '/Users/jcavilaa/Documents/Iris.csv'\n",
    "col_names = ['Sepal_Length','Sepal_Width','Petal_Length','Petal_Width','Species']\n",
    "\n",
    "iris=  pd.read_csv(csv_url, names = col_names)\n",
    "\n",
    "# iris.head()\n",
    "# iris.columns.tolist()\n",
    "['Sepal_Length', 'Sepal_Width', 'Petal_Length', 'Petal_Width', 'Species']"
   ]
  },
  {
   "cell_type": "markdown",
   "id": "6b6c379f-ef4b-4826-90e8-9fba75176137",
   "metadata": {},
   "source": [
    "2. Escriba una clase iterable que tenga la siguiente funcionalidad\n",
    "2.1 Al instanciar un objeto, lee el archivo de datos y lo coloca en un dataframe interno en la clase.\n",
    "2.2. Cada vez que se le pidan datos, debe regresar los dos siguientes datos."
   ]
  },
  {
   "cell_type": "code",
   "execution_count": 11,
   "id": "67f02cc1-caf0-4081-8999-c697ce2d8204",
   "metadata": {},
   "outputs": [],
   "source": [
    "class MyIterable:\n",
    "    def __init__(self, filename):\n",
    "        self.filename = filename\n",
    "        self.df = pd.read_csv(filename)\n",
    "        self.index = 0\n",
    "        \n",
    "    def __iter__(self):\n",
    "        return self\n",
    "    \n",
    "    def __next__(self):\n",
    "        if self.index >= len(self.df):\n",
    "            raise StopIteration\n",
    "        else:\n",
    "            row = self.df.iloc[self.index]\n",
    "            self.index += 2\n",
    "            return row.values[0], row.values[1]\n"
   ]
  },
  {
   "cell_type": "markdown",
   "id": "42d3302b-9cd4-476c-9861-25aa758420c9",
   "metadata": {},
   "source": [
    "2.3 Entregue un error si los datos se han agotado"
   ]
  },
  {
   "cell_type": "code",
   "execution_count": 6,
   "id": "c8f2140b-51f2-48ce-bdb0-aaec13e44635",
   "metadata": {},
   "outputs": [
    {
     "name": "stdout",
     "output_type": "stream",
     "text": [
      "1 5.1\n",
      "3 4.7\n",
      "5 5.0\n",
      "7 4.6\n",
      "9 4.4\n",
      "11 5.4\n",
      "13 4.8\n",
      "15 5.8\n",
      "17 5.4\n",
      "19 5.7\n",
      "21 5.4\n",
      "23 4.6\n",
      "25 4.8\n",
      "27 5.0\n",
      "29 5.2\n",
      "31 4.8\n",
      "33 5.2\n",
      "35 4.9\n",
      "37 5.5\n",
      "39 4.4\n",
      "41 5.0\n",
      "43 4.4\n",
      "45 5.1\n",
      "47 5.1\n",
      "49 5.3\n",
      "51 7.0\n",
      "53 6.9\n",
      "55 6.5\n",
      "57 6.3\n",
      "59 6.6\n",
      "61 5.0\n",
      "63 6.0\n",
      "65 5.6\n",
      "67 5.6\n",
      "69 6.2\n",
      "71 5.9\n",
      "73 6.3\n",
      "75 6.4\n",
      "77 6.8\n",
      "79 6.0\n",
      "81 5.5\n",
      "83 5.8\n",
      "85 5.4\n",
      "87 6.7\n",
      "89 5.6\n",
      "91 5.5\n",
      "93 5.8\n",
      "95 5.6\n",
      "97 5.7\n",
      "99 5.1\n",
      "101 6.3\n",
      "103 7.1\n",
      "105 6.5\n",
      "107 4.9\n",
      "109 6.7\n",
      "111 6.5\n",
      "113 6.8\n",
      "115 5.8\n",
      "117 6.5\n",
      "119 7.7\n",
      "121 6.9\n",
      "123 7.7\n",
      "125 6.7\n",
      "127 6.2\n",
      "129 6.4\n",
      "131 7.4\n",
      "133 6.4\n",
      "135 6.1\n",
      "137 6.3\n",
      "139 6.0\n",
      "141 6.7\n",
      "143 5.8\n",
      "145 6.7\n",
      "147 6.3\n",
      "149 6.2\n"
     ]
    }
   ],
   "source": [
    "my_iterable = MyIterable('/Users/jcavilaa/Documents/Iris.csv')\n",
    "\n",
    "for dato1, dato2 in my_iterable:\n",
    "    \n",
    "\n",
    "    print(dato1, dato2)\n"
   ]
  },
  {
   "cell_type": "code",
   "execution_count": 13,
   "id": "fe872982-cf1e-4568-9f73-27b97fea753e",
   "metadata": {},
   "outputs": [],
   "source": [
    "import pandas as pd\n",
    "\n",
    "class MyIterable:\n",
    "    def __init__(self, filename):\n",
    "        self.filename = filename\n",
    "        self.df = pd.read_csv(filename)\n",
    "        self.index = 0\n",
    "        \n",
    "    def __iter__(self):\n",
    "        return self\n",
    "    \n",
    "    def __next__(self):\n",
    "        if self.index >= len(self.df):\n",
    "            raise StopIteration('No hay más datos disponibles')\n",
    "        else:\n",
    "            row = self.df.iloc[self.index]\n",
    "            self.index += 2\n",
    "            return row.values[0], row.values[1]\n"
   ]
  },
  {
   "cell_type": "code",
   "execution_count": null,
   "id": "460bf831-effe-4bd5-8791-28b9c0ff2242",
   "metadata": {},
   "outputs": [],
   "source": []
  }
 ],
 "metadata": {
  "kernelspec": {
   "display_name": "Python 3 (ipykernel)",
   "language": "python",
   "name": "python3"
  },
  "language_info": {
   "codemirror_mode": {
    "name": "ipython",
    "version": 3
   },
   "file_extension": ".py",
   "mimetype": "text/x-python",
   "name": "python",
   "nbconvert_exporter": "python",
   "pygments_lexer": "ipython3",
   "version": "3.8.2"
  }
 },
 "nbformat": 4,
 "nbformat_minor": 5
}
