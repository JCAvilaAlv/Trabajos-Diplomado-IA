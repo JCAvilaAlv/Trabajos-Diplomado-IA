{
 "cells": [
  {
   "cell_type": "markdown",
   "id": "8bc6291a-d545-4c9d-ae34-443d6fd9d1de",
   "metadata": {},
   "source": [
    "# Tarea #3 Funciones - JCAvilaA #"
   ]
  },
  {
   "cell_type": "markdown",
   "id": "0e772939-560f-4ae1-9def-ff278046ebd8",
   "metadata": {},
   "source": [
    "Practicaremos funciones.\n",
    "Como en la tarea 1, prepare un cuaderno solución de la tarea.\n",
    "\n",
    "Cada ejercicio debe ser probado con un ejemplo de datos.\n",
    "1. Escriba una función  que reciba la fecha de nacimiento de un a persona y calcule la edad de la persona\n",
    "\n"
   ]
  },
  {
   "cell_type": "code",
   "execution_count": 4,
   "id": "8bbc1693-7bb3-4b3b-b57e-28d54a95aabb",
   "metadata": {},
   "outputs": [
    {
     "name": "stdout",
     "output_type": "stream",
     "text": [
      "La persona tiene 32 años\n"
     ]
    }
   ],
   "source": [
    "from datetime import datetime\n",
    "\n",
    "def calcular_edad(fecha_nacimiento):\n",
    "    hoy = datetime.today()\n",
    "    edad = hoy.year - fecha_nacimiento.year - ((hoy.month, hoy.day ) < (fecha_nacimiento.month, fecha_nacimiento.day))\n",
    "    return edad\n",
    "\n",
    "fecha_nacimiento = datetime (1990, 9, 29)\n",
    "edad = calcular_edad(fecha_nacimiento)\n",
    "print(\"La persona tiene {} años\".format(edad))"
   ]
  },
  {
   "cell_type": "markdown",
   "id": "f6aa890d-98f1-4ada-8df7-f4e896c99d3c",
   "metadata": {},
   "source": [
    "2. Crea una función EscribirCentrado, que reciba como parámetro un texto y lo escriba centrado en pantalla (suponiendo una anchura de 80 columnas; pista: deberás escribir 40 - longitud/2 espacios antes del texto). "
   ]
  },
  {
   "cell_type": "code",
   "execution_count": 9,
   "id": "59392ad3-7b55-432d-ae0b-dd070a65b84e",
   "metadata": {},
   "outputs": [
    {
     "name": "stdout",
     "output_type": "stream",
     "text": [
      "                                  ¡Hola, mundo!\n"
     ]
    }
   ],
   "source": [
    "def EscribirCentrado(texto):\n",
    "    longitud = len(texto)\n",
    "    margen_izquierdo = (40 - longitud // 2) * \" \"\n",
    "    print(margen_izquierdo + texto)\n",
    "\n",
    "    \n",
    "texto_ejemplo = \"¡Hola, mundo!\"\n",
    "EscribirCentrado(texto_ejemplo)"
   ]
  },
  {
   "cell_type": "markdown",
   "id": "4d07f44d-b5dc-43a7-88ee-55fecf722a49",
   "metadata": {},
   "source": [
    "3. Construya una función decorada que reciba un texto y lo escriba marcado con Markdown en itálica y resaltada (bold). Revise la lección de decoradores, no vista en clase."
   ]
  },
  {
   "cell_type": "code",
   "execution_count": 10,
   "id": "5b6b3c9d-17da-4fe2-8525-fe9ecad05aee",
   "metadata": {},
   "outputs": [
    {
     "name": "stdout",
     "output_type": "stream",
     "text": [
      "***Hola, prueba piloto.***\n"
     ]
    }
   ],
   "source": [
    "def Markdown(func):\n",
    "    def wrapper(texto):\n",
    "        texto = \"**\" + \"*\" + func(texto) + \"*\" + \"**\"\n",
    "        return texto\n",
    "    return wrapper\n",
    "\n",
    "#Ahora se pone el texto sin formato#\n",
    "\n",
    "@Markdown\n",
    "def EscribirTexto(texto):\n",
    "    return texto\n",
    "\n",
    "#ahora ponemos un texto ejemplo#\n",
    "\n",
    "textodeejemplo = \"Hola, prueba piloto.\"\n",
    "texto_formateado = EscribirTexto(textodeejemplo)\n",
    "print(texto_formateado)\n"
   ]
  },
  {
   "cell_type": "markdown",
   "id": "1a1663be-7de3-4e19-a835-604dc2c286e4",
   "metadata": {},
   "source": [
    "4.  Crea un programa que pida dos número enteros al usuario y diga si alguno de ellos es múltiplo del otro."
   ]
  },
  {
   "cell_type": "code",
   "execution_count": 12,
   "id": "d012e7dd-c04f-4626-ad1e-34e5ea59fc04",
   "metadata": {},
   "outputs": [
    {
     "name": "stdin",
     "output_type": "stream",
     "text": [
      "Ingrese el primer número:  40\n",
      "Ingrese el segundo número:  20\n"
     ]
    },
    {
     "name": "stdout",
     "output_type": "stream",
     "text": [
      "40 es múltiplo de 20\n"
     ]
    }
   ],
   "source": [
    "numero1 = int(input(\"Ingrese el primer número: \"))\n",
    "numero2 = int(input(\"Ingrese el segundo número: \"))\n",
    "\n",
    "if numero1 % numero2 == 0:\n",
    "    print(numero1, \"es múltiplo de\", numero2)\n",
    "elif numero2 % numero1 == 0:\n",
    "    print(numero2, \"es múltiplo de\", numero1)\n",
    "else:\n",
    "    print(\"Los números ingresados no son múltiplos entre sí.\")\n",
    "\n",
    "    "
   ]
  },
  {
   "cell_type": "markdown",
   "id": "10385d4b-31c8-4319-af96-6d4c2bec33d1",
   "metadata": {},
   "source": [
    "5. Crea un función “ConvertirEspaciado”, que reciba como parámetro un texto y devuelve una cadena con un espacio adicional tras cada letra. Por ejemplo, “Hola, tú” devolverá “H o l a , t ú “. "
   ]
  },
  {
   "cell_type": "code",
   "execution_count": 16,
   "id": "724acfed-383f-417a-8d94-9b383e7315b0",
   "metadata": {},
   "outputs": [
    {
     "name": "stdout",
     "output_type": "stream",
     "text": [
      "H o l a ,   t ú\n"
     ]
    }
   ],
   "source": [
    "def ConvertirEspaciado(texto):\n",
    "    texto_espaciado = ''\n",
    "    for letra in texto:\n",
    "        texto_espaciado += letra + ' '\n",
    "    return texto_espaciado[:-1] # Elimina el último espacio en blanco\n",
    "\n",
    "textodeejemplo = \"Hola, tú\"\n",
    "texto_espaciado = ConvertirEspaciado(textodeejemplo)\n",
    "print(texto_espaciado)\n"
   ]
  },
  {
   "cell_type": "markdown",
   "id": "c954db26-a217-4a6e-87f1-849b84a0b5aa",
   "metadata": {},
   "source": [
    "6. Crea una función “calcularMaxMin” que recibe una arreglo con valores numéricos y devuelve el valor máximo y el mínimo."
   ]
  },
  {
   "cell_type": "code",
   "execution_count": 17,
   "id": "b4452fc3-80f8-4e57-b429-705c27d882b2",
   "metadata": {},
   "outputs": [
    {
     "name": "stdout",
     "output_type": "stream",
     "text": [
      "El valor máximo es: 7\n",
      "El valor mínimo es: 1\n"
     ]
    }
   ],
   "source": [
    "def calcularMaxMin(arr):\n",
    "    maximo = arr[0]\n",
    "    minimo = arr[0]\n",
    "    for valor in arr:\n",
    "        if valor > maximo:\n",
    "            maximo = valor\n",
    "        if valor < minimo:\n",
    "            minimo = valor\n",
    "    return (maximo, minimo)\n",
    "\n",
    "arreglodeejemplo = [2, 5, 3, 1, 7, 4]\n",
    "maximo, minimo = calcularMaxMin(arreglodeejemplo)\n",
    "print(\"El valor máximo es:\", maximo)\n",
    "print(\"El valor mínimo es:\", minimo)\n",
    "#Creo que puede haber múltiples formas de hacerlo, pero desconozco#"
   ]
  },
  {
   "cell_type": "markdown",
   "id": "af4d3687-06ea-4069-97d1-1765c047fac3",
   "metadata": {},
   "source": [
    "7.  Diseñar una función que calcule el área y el perímetro de una circunferencia."
   ]
  },
  {
   "cell_type": "code",
   "execution_count": 19,
   "id": "4c53b1d2-dd13-405e-aeab-64ddc7a4c878",
   "metadata": {},
   "outputs": [
    {
     "name": "stdout",
     "output_type": "stream",
     "text": [
      "El perímetro de la circunferencia es: 182.212373908208\n",
      "El área de la circunferencia es: 2642.079421669016\n"
     ]
    }
   ],
   "source": [
    "import math\n",
    "\n",
    "def calcular_circunferencia(radio):\n",
    "    perimetro = 2 * math.pi * radio\n",
    "    area = math.pi * (radio ** 2)\n",
    "    \n",
    "    return perimetro, area\n",
    "\n",
    "radio_1 = 29\n",
    "perimetro, area = calcular_circunferencia(radio_1)\n",
    "print(\"El perímetro de la circunferencia es:\", perimetro)\n",
    "print(\"El área de la circunferencia es:\", area)\n",
    "\n"
   ]
  },
  {
   "cell_type": "markdown",
   "id": "fc308e7d-66b2-43d5-ad37-688554926a42",
   "metadata": {},
   "source": [
    "8. Crear una función  llamada “Login”, que recibe un nombre de usuario y una contraseña y devuelva Verdadero si el nombre de usuario es “usuario1” y la contraseña es “asdasd”. Además recibe el número de intentos que se ha intentado hacer login y si no se ha podido hacer login incremente este valor."
   ]
  },
  {
   "cell_type": "code",
   "execution_count": 21,
   "id": "2d36da59-e7bd-45c8-80eb-fd51e53194e9",
   "metadata": {},
   "outputs": [
    {
     "name": "stdin",
     "output_type": "stream",
     "text": [
      "Introduce el nombre de usuario:  JCAvilaA\n",
      "Introduce la contraseña:  123\n"
     ]
    },
    {
     "name": "stdout",
     "output_type": "stream",
     "text": [
      "Nombre de usuario o contraseña incorrectos. Número de intentos: 1\n"
     ]
    }
   ],
   "source": [
    "def login(nombre_usuario, contrasena, num_intentos):\n",
    "    if nombre_usuario == \"JCAvilaA\" and contrasena == \"12345\":\n",
    "        return True, num_intentos\n",
    "    else: return False, num_intentos + 1\n",
    "\n",
    "#Si el nombre de usuario ingresado es JCAvilaA y la contraseña es 12345, la función arroja verdadero, de lo contrario, arroja falso#\n",
    "\n",
    "usuario = input(\"Introduce el nombre de usuario: \")\n",
    "contrasena = input(\"Introduce la contraseña: \")\n",
    "intentos = 0\n",
    "\n",
    "resultado, intentos = login(usuario, contrasena, intentos)\n",
    "\n",
    "if resultado:\n",
    "    print(\"Inicio de sesión exitoso.\")\n",
    "else:\n",
    "    print(\"Nombre de usuario o contraseña incorrectos. Número de intentos:\", intentos)\n"
   ]
  },
  {
   "cell_type": "code",
   "execution_count": 22,
   "id": "e24f6637-2757-43fa-a770-c0a23831bc85",
   "metadata": {},
   "outputs": [
    {
     "name": "stdin",
     "output_type": "stream",
     "text": [
      "Introduce el nombre de usuario:  JCAvilaA\n",
      "Introduce la contraseña:  12345\n"
     ]
    },
    {
     "name": "stdout",
     "output_type": "stream",
     "text": [
      "Inicio de sesión exitoso.\n"
     ]
    }
   ],
   "source": [
    "def login(nombre_usuario, contrasena, num_intentos):\n",
    "    if nombre_usuario == \"JCAvilaA\" and contrasena == \"12345\":\n",
    "        return True, num_intentos\n",
    "    else: return False, num_intentos + 1\n",
    "\n",
    "#Si el nombre de usuario ingresado es JCAvilaA y la contraseña es 12345, la función arroja verdadero, de lo contrario, arroja falso#\n",
    "\n",
    "usuario = input(\"Introduce el nombre de usuario: \")\n",
    "contrasena = input(\"Introduce la contraseña: \")\n",
    "intentos = 0\n",
    "\n",
    "resultado, intentos = login(usuario, contrasena, intentos)\n",
    "\n",
    "if resultado:\n",
    "    print(\"Inicio de sesión exitoso.\")\n",
    "else:\n",
    "    print(\"Nombre de usuario o contraseña incorrectos. Número de intentos:\", intentos)"
   ]
  },
  {
   "cell_type": "markdown",
   "id": "77f14463-d506-4dae-98e4-9da3f6b51a53",
   "metadata": {},
   "source": [
    "9. Crear una función recursiva que permita calcular el factorial de un número. Realiza un programa principal donde se lea un entero y se muestre el resultado del factorial. Revise la lección de funciones."
   ]
  },
  {
   "cell_type": "code",
   "execution_count": 24,
   "id": "cfeb2418-1325-412a-88a3-81d8632b5a35",
   "metadata": {},
   "outputs": [
    {
     "name": "stdin",
     "output_type": "stream",
     "text": [
      "Por favor escriba un número:  29\n"
     ]
    },
    {
     "name": "stdout",
     "output_type": "stream",
     "text": [
      "El factorial de 29 es 8841761993739701954543616000000\n"
     ]
    }
   ],
   "source": [
    "def factorial(n):\n",
    "    if n == 0:\n",
    "        return 1\n",
    "    else:\n",
    "        return n * factorial(n-1)\n",
    "\n",
    "    \n",
    "numero = int(input(\"Por favor escriba un número: \"))\n",
    "resultado = factorial(numero)\n",
    "print(\"El factorial de\", numero, \"es\", resultado)"
   ]
  },
  {
   "cell_type": "markdown",
   "id": "98b6a22e-5126-4b0d-9c59-da833bc68f78",
   "metadata": {},
   "source": [
    "10. Escribir dos funciones que permitan calcular:\n",
    "La cantidad de segundos en un tiempo dado en horas, minutos y segundos.\n",
    "La cantidad de horas, minutos y segundos de un tiempo dado en segundos"
   ]
  },
  {
   "cell_type": "code",
   "execution_count": 26,
   "id": "ff6ba13b-5f93-4cdb-b366-e829e37e5ba3",
   "metadata": {},
   "outputs": [
    {
     "name": "stdout",
     "output_type": "stream",
     "text": [
      "La cantidad de segundos es: 15606\n"
     ]
    }
   ],
   "source": [
    "#La cantidad de segundos en un tiempo dado en horas, minutos y segundos# \n",
    "\n",
    "def calcular_segundos(horas, minutos, segundos):\n",
    "    total_segundos = (horas * 3600) + (minutos * 60) + segundos\n",
    "    return total_segundos\n",
    "\n",
    "#Ejemplo de 4 horas, 20 minutos y 6 segundos#\n",
    "\n",
    "total_segundos = calcular_segundos(4, 20, 6)\n",
    "print(\"La cantidad de segundos es:\", total_segundos)\n"
   ]
  },
  {
   "cell_type": "code",
   "execution_count": 39,
   "id": "321fc26e-d1a2-45a2-8483-2dc3fbaacde5",
   "metadata": {},
   "outputs": [],
   "source": [
    "# La cantidad de horas, minutos y segundos de un tiempo dado en segundos#\n",
    "\n",
    "def calcular_tiempo(segundos):\n",
    "    horas = segundos // 3600\n",
    "    segundos_restantes = segundos % 3600\n",
    "    minutos = segundos_restantes // 60\n",
    "    segundos = segundos_restantes % 60\n",
    "    return horas, minutos, segundos\n",
    "\n",
    "#Ejemplo 40250 segundos#\n",
    "\n",
    "calcular_tiempo(9254)\n",
    "print(\"El número de horas es:\", horas)\n",
    "print(\"El número de minutos es:\", minutos)\n",
    "print(\"El número de segundos es:\", segundos)\n"
   ]
  },
  {
   "cell_type": "markdown",
   "id": "42181ea0-489e-441a-98f2-c19413b3b692",
   "metadata": {},
   "source": [
    "11. Crea una función  que lea una tupla, invierta los valores de la tupla y regrese una nueva tupla invirtiendo los valores. Recuerde que las tuplas son inmutables."
   ]
  },
  {
   "cell_type": "code",
   "execution_count": 44,
   "id": "24a8ccb3-fdb6-4add-941d-a63fb93ee064",
   "metadata": {},
   "outputs": [
    {
     "name": "stdout",
     "output_type": "stream",
     "text": [
      "(5, 4, 3, 2, 1)\n"
     ]
    }
   ],
   "source": [
    "def invertir_tupla(tupla):\n",
    "    return tupla[::-1]\n",
    "\n",
    "tupla1 = (1, 2, 3, 4, 5)\n",
    "tupla_invertida = invertir_tupla(tupla1)\n",
    "print(tupla_invertida)\n"
   ]
  },
  {
   "cell_type": "markdown",
   "id": "a578c00b-48a7-4ae8-9e8f-18f1c43fcbdb",
   "metadata": {},
   "source": [
    "12. Escriba una función que lea una lista y calcule la media geométrica de sus valores, usando funtools.reduce."
   ]
  },
  {
   "cell_type": "code",
   "execution_count": 46,
   "id": "04c015af-f234-46de-ac2b-28f741a4b810",
   "metadata": {},
   "outputs": [
    {
     "name": "stdout",
     "output_type": "stream",
     "text": [
      "4.706763706454774\n"
     ]
    }
   ],
   "source": [
    "from functools import reduce\n",
    "\n",
    "def media_geometrica(lista):\n",
    "    producto = reduce(lambda x, y: x * y, lista)\n",
    "    return producto ** (1/len(lista))\n",
    "\n",
    "lista1 = [2, 3, 5, 7, 11]\n",
    "mg = media_geometrica(lista1)\n",
    "print(mg)"
   ]
  }
 ],
 "metadata": {
  "kernelspec": {
   "display_name": "Python 3 (ipykernel)",
   "language": "python",
   "name": "python3"
  },
  "language_info": {
   "codemirror_mode": {
    "name": "ipython",
    "version": 3
   },
   "file_extension": ".py",
   "mimetype": "text/x-python",
   "name": "python",
   "nbconvert_exporter": "python",
   "pygments_lexer": "ipython3",
   "version": "3.8.2"
  }
 },
 "nbformat": 4,
 "nbformat_minor": 5
}
