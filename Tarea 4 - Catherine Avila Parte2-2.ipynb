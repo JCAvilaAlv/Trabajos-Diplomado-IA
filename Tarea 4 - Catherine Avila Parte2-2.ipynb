{
 "cells": [
  {
   "cell_type": "markdown",
   "id": "a148740f-6e89-465d-aa4a-a60d357075aa",
   "metadata": {},
   "source": [
    "# Tarea N° 4 - Catherine Avila A - Parte 2 #"
   ]
  },
  {
   "cell_type": "markdown",
   "id": "fb2a2541-f828-4c5f-98e7-c08912f08fe5",
   "metadata": {},
   "source": [
    "3. Escriba una clase con las siguientes funcionalidades:\n",
    "3.1. Al instanciar un objeto, lee un conjunto de datos numéricos. Por ejemplo puede usar el mismo conjunto de datos iris.csv. Instancie los datos en un dataframe de Pandas"
   ]
  },
  {
   "cell_type": "code",
   "execution_count": 2,
   "id": "8eb7fb75-166b-48c9-ade7-25efd752fdd3",
   "metadata": {},
   "outputs": [
    {
     "name": "stdout",
     "output_type": "stream",
     "text": [
      "   Id  SepalLengthCm  SepalWidthCm  PetalLengthCm  PetalWidthCm      Species\n",
      "0   1            5.1           3.5            1.4           0.2  Iris-setosa\n",
      "1   2            4.9           3.0            1.4           0.2  Iris-setosa\n",
      "2   3            4.7           3.2            1.3           0.2  Iris-setosa\n",
      "3   4            4.6           3.1            1.5           0.2  Iris-setosa\n",
      "4   5            5.0           3.6            1.4           0.2  Iris-setosa\n"
     ]
    }
   ],
   "source": [
    "import pandas as pd\n",
    "\n",
    "class DataReader:\n",
    "    def __init__(self, filename):\n",
    "        self.data = pd.read_csv(filename)\n",
    "\n",
    "data_reader = DataReader('/Users/jcavilaa/Documents/Iris.csv')\n",
    "print(data_reader.data.head())\n"
   ]
  },
  {
   "cell_type": "code",
   "execution_count": 4,
   "id": "dd1dc2c0-25f0-413f-a97c-599ec42252ee",
   "metadata": {},
   "outputs": [
    {
     "name": "stdout",
     "output_type": "stream",
     "text": [
      "Collecting matplotlib\n",
      "  Downloading matplotlib-3.7.1-cp38-cp38-macosx_10_12_x86_64.whl (7.4 MB)\n",
      "\u001b[2K     \u001b[90m━━━━━━━━━━━━━━━━━━━━━━━━━━━━━━━━━━━━━━━━\u001b[0m \u001b[32m7.4/7.4 MB\u001b[0m \u001b[31m7.9 MB/s\u001b[0m eta \u001b[36m0:00:00\u001b[0m00:01\u001b[0m00:01\u001b[0m\n",
      "\u001b[?25hCollecting fonttools>=4.22.0\n",
      "  Downloading fonttools-4.39.3-py3-none-any.whl (1.0 MB)\n",
      "\u001b[2K     \u001b[90m━━━━━━━━━━━━━━━━━━━━━━━━━━━━━━━━━━━━━━━━\u001b[0m \u001b[32m1.0/1.0 MB\u001b[0m \u001b[31m7.4 MB/s\u001b[0m eta \u001b[36m0:00:00\u001b[0ma \u001b[36m0:00:01\u001b[0m\n",
      "\u001b[?25hRequirement already satisfied: importlib-resources>=3.2.0 in /Users/jcavilaa/anaconda3/envs/rstudio/lib/python3.8/site-packages (from matplotlib) (5.2.0)\n",
      "Collecting kiwisolver>=1.0.1\n",
      "  Downloading kiwisolver-1.4.4-cp38-cp38-macosx_10_9_x86_64.whl (65 kB)\n",
      "\u001b[2K     \u001b[90m━━━━━━━━━━━━━━━━━━━━━━━━━━━━━━━━━━━━━━━\u001b[0m \u001b[32m65.4/65.4 kB\u001b[0m \u001b[31m413.9 kB/s\u001b[0m eta \u001b[36m0:00:00\u001b[0ma \u001b[36m0:00:01\u001b[0m\n",
      "\u001b[?25hCollecting pillow>=6.2.0\n",
      "  Downloading Pillow-9.5.0-cp38-cp38-macosx_10_10_x86_64.whl (3.4 MB)\n",
      "\u001b[2K     \u001b[90m━━━━━━━━━━━━━━━━━━━━━━━━━━━━━━━━━━━━━━━━\u001b[0m \u001b[32m3.4/3.4 MB\u001b[0m \u001b[31m7.9 MB/s\u001b[0m eta \u001b[36m0:00:00\u001b[0ma \u001b[36m0:00:01\u001b[0m\n",
      "\u001b[?25hRequirement already satisfied: packaging>=20.0 in /Users/jcavilaa/anaconda3/envs/rstudio/lib/python3.8/site-packages (from matplotlib) (23.0)\n",
      "Collecting pyparsing>=2.3.1\n",
      "  Downloading pyparsing-3.0.9-py3-none-any.whl (98 kB)\n",
      "\u001b[2K     \u001b[90m━━━━━━━━━━━━━━━━━━━━━━━━━━━━━━━━━━━━━━━━\u001b[0m \u001b[32m98.3/98.3 kB\u001b[0m \u001b[31m4.7 MB/s\u001b[0m eta \u001b[36m0:00:00\u001b[0m\n",
      "\u001b[?25hCollecting contourpy>=1.0.1\n",
      "  Downloading contourpy-1.0.7-cp38-cp38-macosx_10_9_x86_64.whl (243 kB)\n",
      "\u001b[2K     \u001b[90m━━━━━━━━━━━━━━━━━━━━━━━━━━━━━━━━━━━━━━━\u001b[0m \u001b[32m244.0/244.0 kB\u001b[0m \u001b[31m7.0 MB/s\u001b[0m eta \u001b[36m0:00:00\u001b[0m\n",
      "\u001b[?25hCollecting cycler>=0.10\n",
      "  Downloading cycler-0.11.0-py3-none-any.whl (6.4 kB)\n",
      "Requirement already satisfied: numpy>=1.20 in /Users/jcavilaa/anaconda3/envs/rstudio/lib/python3.8/site-packages (from matplotlib) (1.23.5)\n",
      "Requirement already satisfied: python-dateutil>=2.7 in /Users/jcavilaa/anaconda3/envs/rstudio/lib/python3.8/site-packages (from matplotlib) (2.8.2)\n",
      "Requirement already satisfied: zipp>=3.1.0 in /Users/jcavilaa/anaconda3/envs/rstudio/lib/python3.8/site-packages (from importlib-resources>=3.2.0->matplotlib) (3.11.0)\n",
      "Requirement already satisfied: six>=1.5 in /Users/jcavilaa/anaconda3/envs/rstudio/lib/python3.8/site-packages (from python-dateutil>=2.7->matplotlib) (1.16.0)\n",
      "Installing collected packages: pyparsing, pillow, kiwisolver, fonttools, cycler, contourpy, matplotlib\n",
      "Successfully installed contourpy-1.0.7 cycler-0.11.0 fonttools-4.39.3 kiwisolver-1.4.4 matplotlib-3.7.1 pillow-9.5.0 pyparsing-3.0.9\n",
      "Note: you may need to restart the kernel to use updated packages.\n"
     ]
    }
   ],
   "source": [
    "pip install matplotlib"
   ]
  },
  {
   "cell_type": "code",
   "execution_count": 5,
   "id": "33443d78-a0df-4fd4-8b99-9bdb1334309e",
   "metadata": {},
   "outputs": [
    {
     "name": "stdout",
     "output_type": "stream",
     "text": [
      "Retrieving notices: ...working... done\n",
      "Collecting package metadata (current_repodata.json): done\n",
      "Solving environment: done\n",
      "\n",
      "## Package Plan ##\n",
      "\n",
      "  environment location: /Users/jcavilaa/anaconda3/envs/rstudio\n",
      "\n",
      "  added / updated specs:\n",
      "    - matplotlib\n",
      "\n",
      "\n",
      "The following packages will be downloaded:\n",
      "\n",
      "    package                    |            build\n",
      "    ---------------------------|-----------------\n",
      "    contourpy-1.0.5            |   py38haf03e11_0         191 KB\n",
      "    kiwisolver-1.4.4           |   py38hcec6c5f_0          62 KB\n",
      "    matplotlib-3.7.1           |   py38hecd8cb5_1           9 KB\n",
      "    matplotlib-base-3.7.1      |   py38hda11e5a_1         6.7 MB\n",
      "    pillow-9.4.0               |   py38hcec6c5f_0         690 KB\n",
      "    pyparsing-3.0.9            |   py38hecd8cb5_0         149 KB\n",
      "    ------------------------------------------------------------\n",
      "                                           Total:         7.8 MB\n",
      "\n",
      "The following NEW packages will be INSTALLED:\n",
      "\n",
      "  brotli             pkgs/main/osx-64::brotli-1.0.9-hca72f7f_7 \n",
      "  brotli-bin         pkgs/main/osx-64::brotli-bin-1.0.9-hca72f7f_7 \n",
      "  contourpy          pkgs/main/osx-64::contourpy-1.0.5-py38haf03e11_0 \n",
      "  cycler             pkgs/main/noarch::cycler-0.11.0-pyhd3eb1b0_0 \n",
      "  fonttools          pkgs/main/noarch::fonttools-4.25.0-pyhd3eb1b0_0 \n",
      "  giflib             pkgs/main/osx-64::giflib-5.2.1-h6c40b1e_3 \n",
      "  kiwisolver         pkgs/main/osx-64::kiwisolver-1.4.4-py38hcec6c5f_0 \n",
      "  lcms2              pkgs/main/osx-64::lcms2-2.12-hf1fd2bf_0 \n",
      "  libbrotlicommon    pkgs/main/osx-64::libbrotlicommon-1.0.9-hca72f7f_7 \n",
      "  libbrotlidec       pkgs/main/osx-64::libbrotlidec-1.0.9-hca72f7f_7 \n",
      "  libbrotlienc       pkgs/main/osx-64::libbrotlienc-1.0.9-hca72f7f_7 \n",
      "  libwebp            pkgs/main/osx-64::libwebp-1.2.4-hf6ce154_1 \n",
      "  matplotlib         pkgs/main/osx-64::matplotlib-3.7.1-py38hecd8cb5_1 \n",
      "  matplotlib-base    pkgs/main/osx-64::matplotlib-base-3.7.1-py38hda11e5a_1 \n",
      "  munkres            pkgs/main/noarch::munkres-1.1.4-py_0 \n",
      "  pillow             pkgs/main/osx-64::pillow-9.4.0-py38hcec6c5f_0 \n",
      "  pyparsing          pkgs/main/osx-64::pyparsing-3.0.9-py38hecd8cb5_0 \n",
      "\n",
      "\n",
      "\n",
      "Downloading and Extracting Packages\n",
      "kiwisolver-1.4.4     | 62 KB     |                                       |   0% \n",
      "pyparsing-3.0.9      | 149 KB    |                                       |   0% \u001b[A\n",
      "\n",
      "contourpy-1.0.5      | 191 KB    |                                       |   0% \u001b[A\u001b[A\n",
      "\n",
      "\n",
      "matplotlib-base-3.7. | 6.7 MB    |                                       |   0% \u001b[A\u001b[A\u001b[A\n",
      "\n",
      "\n",
      "\n",
      "pillow-9.4.0         | 690 KB    |                                       |   0% \u001b[A\u001b[A\u001b[A\u001b[A\n",
      "\n",
      "\n",
      "\n",
      "\n",
      "matplotlib-3.7.1     | 9 KB      |                                       |   0% \u001b[A\u001b[A\u001b[A\u001b[A\u001b[A\n",
      "kiwisolver-1.4.4     | 62 KB     | #########5                            |  26% \u001b[A\n",
      "\n",
      "contourpy-1.0.5      | 191 KB    | ###                                   |   8% \u001b[A\u001b[A\n",
      "\n",
      "\n",
      "kiwisolver-1.4.4     | 62 KB     | ##################################### | 100% \u001b[A\u001b[A\u001b[A\n",
      "pyparsing-3.0.9      | 149 KB    | ###########################7          |  75% \u001b[A\n",
      "\n",
      "contourpy-1.0.5      | 191 KB    | #####################6                |  59% \u001b[A\u001b[A\n",
      "\n",
      "\n",
      "matplotlib-base-3.7. | 6.7 MB    | 6                                     |   2% \u001b[A\u001b[A\u001b[A\n",
      "pyparsing-3.0.9      | 149 KB    | ##################################### | 100% \u001b[A\n",
      "\n",
      "\n",
      "\n",
      "\n",
      "matplotlib-3.7.1     | 9 KB      | ##################################### | 100% \u001b[A\u001b[A\u001b[A\u001b[A\u001b[A\n",
      "\n",
      "\n",
      "\n",
      "\n",
      "matplotlib-3.7.1     | 9 KB      | ##################################### | 100% \u001b[A\u001b[A\u001b[A\u001b[A\u001b[A\n",
      "\n",
      "contourpy-1.0.5      | 191 KB    | ##################################### | 100% \u001b[A\u001b[A\n",
      "\n",
      "\n",
      "\n",
      "pillow-9.4.0         | 690 KB    | 8                                     |   2% \u001b[A\u001b[A\u001b[A\u001b[A\n",
      "\n",
      "\n",
      "matplotlib-base-3.7. | 6.7 MB    | #4                                    |   4% \u001b[A\u001b[A\u001b[A\n",
      "\n",
      "\n",
      "\n",
      "pillow-9.4.0         | 690 KB    | ######                                |  16% \u001b[A\u001b[A\u001b[A\u001b[A\n",
      "\n",
      "\n",
      "matplotlib-base-3.7. | 6.7 MB    | ###9                                  |  11% \u001b[A\u001b[A\u001b[A\n",
      "\n",
      "\n",
      "\n",
      "pillow-9.4.0         | 690 KB    | ############                          |  32% \u001b[A\u001b[A\u001b[A\u001b[A\n",
      "\n",
      "\n",
      "matplotlib-base-3.7. | 6.7 MB    | #######7                              |  21% \u001b[A\u001b[A\u001b[A\n",
      "\n",
      "\n",
      "matplotlib-base-3.7. | 6.7 MB    | ###########3                          |  31% \u001b[A\u001b[A\u001b[A\n",
      "\n",
      "\n",
      "\n",
      "pillow-9.4.0         | 690 KB    | ###################7                  |  53% \u001b[A\u001b[A\u001b[A\u001b[A\n",
      "\n",
      "\n",
      "matplotlib-base-3.7. | 6.7 MB    | ##############                        |  38% \u001b[A\u001b[A\u001b[A\n",
      "\n",
      "\n",
      "\n",
      "pillow-9.4.0         | 690 KB    | #########################7            |  70% \u001b[A\u001b[A\u001b[A\u001b[A\n",
      "\n",
      "\n",
      "matplotlib-base-3.7. | 6.7 MB    | #######################5              |  64% \u001b[A\u001b[A\u001b[A\n",
      "\n",
      "\n",
      "\n",
      "pillow-9.4.0         | 690 KB    | ##################################### | 100% \u001b[A\u001b[A\u001b[A\u001b[A\n",
      "\n",
      "\n",
      "\n",
      "pillow-9.4.0         | 690 KB    | ##################################### | 100% \u001b[A\u001b[A\u001b[A\u001b[A\n",
      "\n",
      "\n",
      "matplotlib-base-3.7. | 6.7 MB    | ############################1         |  76% \u001b[A\u001b[A\u001b[A\n",
      "\n",
      "\n",
      "matplotlib-base-3.7. | 6.7 MB    | ################################6     |  88% \u001b[A\u001b[A\u001b[A\n",
      "\n",
      "\n",
      "matplotlib-base-3.7. | 6.7 MB    | ##################################### | 100% \u001b[A\u001b[A\u001b[A\n",
      "\n",
      "\n",
      "                                                                                \u001b[A\u001b[A\u001b[A\n",
      "                                                                                \u001b[A\n",
      "\n",
      "                                                                                \u001b[A\u001b[A\n",
      "\n",
      "\n",
      "                                                                                \u001b[A\u001b[A\u001b[A\n",
      "\n",
      "\n",
      "\n",
      "                                                                                \u001b[A\u001b[A\u001b[A\u001b[A\n",
      "\n",
      "\n",
      "\n",
      "\n",
      "                                                                                \u001b[A\u001b[A\u001b[A\u001b[A\u001b[A\n",
      "Preparing transaction: done\n",
      "Verifying transaction: done\n",
      "Executing transaction: done\n",
      "\n",
      "Note: you may need to restart the kernel to use updated packages.\n"
     ]
    }
   ],
   "source": [
    "conda install matplotlib"
   ]
  },
  {
   "cell_type": "code",
   "execution_count": 6,
   "id": "e52feb94-e068-4d10-85ce-ea5a9de86958",
   "metadata": {},
   "outputs": [
    {
     "name": "stdout",
     "output_type": "stream",
     "text": [
      "               Id  SepalLengthCm  SepalWidthCm  PetalLengthCm  PetalWidthCm\n",
      "count  150.000000     150.000000    150.000000     150.000000    150.000000\n",
      "mean    75.500000       5.843333      3.054000       3.758667      1.198667\n",
      "std     43.445368       0.828066      0.433594       1.764420      0.763161\n",
      "min      1.000000       4.300000      2.000000       1.000000      0.100000\n",
      "25%     38.250000       5.100000      2.800000       1.600000      0.300000\n",
      "50%     75.500000       5.800000      3.000000       4.350000      1.300000\n",
      "75%    112.750000       6.400000      3.300000       5.100000      1.800000\n",
      "max    150.000000       7.900000      4.400000       6.900000      2.500000\n"
     ]
    }
   ],
   "source": [
    "import pandas as pd\n",
    "\n",
    "class DataReader:\n",
    "    def __init__(self, filename):\n",
    "        self.data = pd.read_csv(filename)\n",
    "        \n",
    "    def describe(self):\n",
    "        return self.data.describe()\n",
    "\n",
    "data_reader = DataReader('/Users/jcavilaa/Documents/Iris.csv')\n",
    "print(data_reader.describe())\n"
   ]
  },
  {
   "cell_type": "code",
   "execution_count": 8,
   "id": "6c5b5e97-5c1d-44b2-8563-bab5c8d4d1a9",
   "metadata": {},
   "outputs": [
    {
     "name": "stdout",
     "output_type": "stream",
     "text": [
      "['Id', 'SepalLengthCm', 'SepalWidthCm', 'PetalLengthCm', 'PetalWidthCm', 'Species']\n"
     ]
    }
   ],
   "source": [
    "import pandas as pd\n",
    "\n",
    "class DataReader:\n",
    "    def __init__(self, filename):\n",
    "        self.data = pd.read_csv(filename)\n",
    "        \n",
    "    def describe(self):\n",
    "        return self.data.describe()\n",
    "    \n",
    "    def get_column_names(self):\n",
    "        return list(self.data.columns)\n",
    "\n",
    "data_reader = DataReader('/Users/jcavilaa/Documents/Iris.csv')\n",
    "print(data_reader.get_column_names())\n"
   ]
  },
  {
   "cell_type": "code",
   "execution_count": 14,
   "id": "9dc25b4b-a120-4581-8e70-90d54ce4fd42",
   "metadata": {},
   "outputs": [],
   "source": [
    "import pandas as pd\n",
    "import matplotlib.pyplot as plt\n",
    "\n",
    "import pandas as pd\n",
    "import matplotlib.pyplot as plt\n",
    "\n",
    "class DataAnalyzer:\n",
    "    def __init__(self, file_path):\n",
    "        self.file_path = file_path\n",
    "        self.df = None\n",
    "        self.variables = None\n",
    "    \n",
    "    def read_data(self):\n",
    "        try:\n",
    "            self.df = pd.read_csv(self.file_path)\n",
    "            self.variables = list(self.df.columns)\n",
    "            return True\n",
    "        except FileNotFoundError:\n",
    "            print(f\"Error: File '{self.file_path}' not found.\")\n",
    "            return False\n",
    "    \n",
    "    def calculate_basic_stats(self):\n",
    "        if self.df is not None:\n",
    "            return self.df.describe()\n",
    "        else:\n",
    "            return None\n",
    "    \n",
    "    def get_variables(self):\n",
    "        return self.variables\n",
    "    \n",
    "    def analyze_variable(self, variable_name):\n",
    "        if self.df is not None and variable_name in self.variables:\n",
    "            variable_data = self.df[variable_name]\n",
    "            stats = {\n",
    "                \"mean\": variable_data.mean(),\n",
    "                \"median\": variable_data.median(),\n",
    "                \"std\": variable_data.std(),\n",
    "                \"q25\": variable_data.quantile(0.25),\n",
    "                \"q50\": variable_data.quantile(0.5),\n",
    "                \"q75\": variable_data.quantile(0.75)\n",
    "            }\n",
    "            plt.hist(variable_data)\n",
    "            plt.title(f\"Distribution of {variable_name}\")\n",
    "            plt.xlabel(variable_name)\n",
    "            plt.ylabel(\"Frequency\")\n",
    "            plt.show()\n",
    "            return stats\n",
    "        else:\n",
    "            return None\n",
    "        \n"
   ]
  },
  {
   "cell_type": "code",
   "execution_count": 17,
   "id": "ded3b86f-76b7-444b-be56-fb3d84b23375",
   "metadata": {},
   "outputs": [
    {
     "name": "stdout",
     "output_type": "stream",
     "text": [
      "\n",
      "Variables disponibles:\n",
      "['Id', 'SepalLengthCm', 'SepalWidthCm', 'PetalLengthCm', 'PetalWidthCm', 'Species']\n",
      "\n",
      "Estadísticas básicas:\n",
      "               Id  SepalLengthCm  SepalWidthCm  PetalLengthCm  PetalWidthCm\n",
      "count  150.000000     150.000000    150.000000     150.000000    150.000000\n",
      "mean    75.500000       5.843333      3.054000       3.758667      1.198667\n",
      "std     43.445368       0.828066      0.433594       1.764420      0.763161\n",
      "min      1.000000       4.300000      2.000000       1.000000      0.100000\n",
      "25%     38.250000       5.100000      2.800000       1.600000      0.300000\n",
      "50%     75.500000       5.800000      3.000000       4.350000      1.300000\n",
      "75%    112.750000       6.400000      3.300000       5.100000      1.800000\n",
      "max    150.000000       7.900000      4.400000       6.900000      2.500000\n",
      "\n",
      "Análisis de la variable 'sepal.lengthCm':\n",
      "None\n"
     ]
    }
   ],
   "source": [
    "analyzer = DataAnalyzer(\"iris.csv\")\n",
    "analyzer.read_data()\n",
    "\n",
    "# Obtener la lista de variables disponibles\n",
    "print(\"\\nVariables disponibles:\")\n",
    "print(analyzer.get_variables())\n",
    "\n",
    "# Calcular las estadísticas básicas para todas las variables\n",
    "print(\"\\nEstadísticas básicas:\")\n",
    "print(analyzer.calculate_basic_stats())\n",
    "\n",
    "# Analizar la variable \"sepal.length\"\n",
    "print(\"\\nAnálisis de la variable 'sepal.length':\")\n",
    "print(analyzer.analyze_variable(\"sepal.length\"))"
   ]
  },
  {
   "cell_type": "code",
   "execution_count": 18,
   "id": "fc80415a-eb63-47ee-be49-e5a1b95e1f73",
   "metadata": {},
   "outputs": [
    {
     "data": {
      "image/png": "[encoded data removed]",
      "text/plain": [
       "<Figure size 640x480 with 1 Axes>"
      ]
     },
     "metadata": {},
     "output_type": "display_data"
    },
    {
     "name": "stdout",
     "output_type": "stream",
     "text": [
      "{'mean': 5.843333333333334, 'median': 5.8, 'std': 0.8280661279778629, 'q25': 5.1, 'q50': 5.8, 'q75': 6.4}\n"
     ]
    }
   ],
   "source": [
    "data_reader = DataReader('iris.csv')\n",
    "variable_stats = data_reader.analyze_variable('SepalLengthCm')\n",
    "print(variable_stats)"
   ]
  },
  {
   "cell_type": "code",
   "execution_count": null,
   "id": "ea29980f-8baa-4dfa-83da-0992ae319dd2",
   "metadata": {},
   "outputs": [],
   "source": []
  }
 ],
 "metadata": {
  "kernelspec": {
   "display_name": "Python 3 (ipykernel)",
   "language": "python",
   "name": "python3"
  },
  "language_info": {
   "codemirror_mode": {
    "name": "ipython",
    "version": 3
   },
   "file_extension": ".py",
   "mimetype": "text/x-python",
   "name": "python",
   "nbconvert_exporter": "python",
   "pygments_lexer": "ipython3",
   "version": "3.8.2"
  }
 },
 "nbformat": 4,
 "nbformat_minor": 5
}
